{
  "nbformat": 4,
  "nbformat_minor": 0,
  "metadata": {
    "colab": {
      "provenance": [],
      "authorship_tag": "ABX9TyOUDJJWKkwVXGgwS8E9exaJ",
      "include_colab_link": true
    },
    "kernelspec": {
      "name": "python3",
      "display_name": "Python 3"
    },
    "language_info": {
      "name": "python"
    }
  },
  "cells": [
    {
      "cell_type": "markdown",
      "metadata": {
        "id": "view-in-github",
        "colab_type": "text"
      },
      "source": [
        "<a href=\"https://colab.research.google.com/github/aditic04/1BM22CS014_BIS_Lab/blob/main/Grey_Wolf_Optimizer_Algorithm.ipynb\" target=\"_parent\"><img src=\"https://colab.research.google.com/assets/colab-badge.svg\" alt=\"Open In Colab\"/></a>"
      ]
    },
    {
      "cell_type": "code",
      "execution_count": null,
      "metadata": {
        "id": "qZ7UBxR_cKWj",
        "outputId": "39febeaf-6825-4e7b-cc5e-1f6f591dda49",
        "colab": {
          "base_uri": "https://localhost:8080/"
        }
      },
      "outputs": [
        {
          "output_type": "stream",
          "name": "stdout",
          "text": [
            "Iter 1/30, Best Score: 285\n",
            "Iter 2/30, Best Score: 275\n",
            "Iter 3/30, Best Score: 275\n",
            "Iter 4/30, Best Score: 275\n",
            "Iter 5/30, Best Score: 270\n",
            "Iter 6/30, Best Score: 171\n",
            "Iter 7/30, Best Score: 171\n",
            "Iter 8/30, Best Score: 171\n",
            "Iter 9/30, Best Score: 171\n",
            "Iter 10/30, Best Score: 171\n",
            "Iter 11/30, Best Score: 171\n",
            "Iter 12/30, Best Score: 171\n",
            "Iter 13/30, Best Score: 171\n",
            "Iter 14/30, Best Score: 171\n",
            "Iter 15/30, Best Score: 171\n",
            "Iter 16/30, Best Score: 171\n",
            "Iter 17/30, Best Score: 171\n",
            "Iter 18/30, Best Score: 171\n",
            "Iter 19/30, Best Score: 171\n",
            "Iter 20/30, Best Score: 171\n",
            "Iter 21/30, Best Score: 171\n",
            "Iter 22/30, Best Score: 171\n",
            "Iter 23/30, Best Score: 171\n",
            "Iter 24/30, Best Score: 171\n",
            "Iter 25/30, Best Score: 171\n",
            "Iter 26/30, Best Score: 171\n",
            "Iter 27/30, Best Score: 171\n",
            "Iter 28/30, Best Score: 171\n",
            "Iter 29/30, Best Score: 171\n",
            "Iter 30/30, Best Score: 171\n",
            "Updating positions and scores complete for all wolves.\n",
            "Best Score: 171\n",
            "Best Position (Order): [8 7 0 5 9 4 2 6 1 3]\n",
            "Aditi C (1BM22CS014)\n"
          ]
        }
      ],
      "source": [
        "import numpy as np\n",
        "\n",
        "def fitness_function(solution):\n",
        "    distance = 0\n",
        "    for i in range(len(solution) - 1):\n",
        "        distance += distance_matrix[solution[i]][solution[i + 1]]\n",
        "    distance += distance_matrix[solution[-1]][solution[0]]\n",
        "    return distance\n",
        "\n",
        "def gwo(obj_fn, dim, wolves, iters, lb, ub):\n",
        "    pos = np.random.uniform(low=lb, high=ub, size=(wolves, dim))\n",
        "    a_pos, b_pos, d_pos = np.zeros(dim), np.zeros(dim), np.zeros(dim)\n",
        "    a_score, b_score, d_score = float(\"inf\"), float(\"inf\"), float(\"inf\")\n",
        "\n",
        "    for t in range(iters):\n",
        "        for i in range(wolves):\n",
        "            fit = obj_fn(pos[i])\n",
        "            if fit < a_score:\n",
        "                d_score, d_pos = b_score, b_pos.copy()\n",
        "                b_score, b_pos = a_score, a_pos.copy()\n",
        "                a_score, a_pos = fit, pos[i].copy()\n",
        "            elif fit < b_score:\n",
        "                d_score, d_pos = b_score, b_pos.copy()\n",
        "                b_score, b_pos = fit, pos[i].copy()\n",
        "            elif fit < d_score:\n",
        "                d_score, d_pos = fit, pos[i].copy()\n",
        "\n",
        "        a = 2 - t * (2 / iters)\n",
        "        for i in range(wolves):\n",
        "            for j in range(dim):\n",
        "                r1, r2 = np.random.rand(), np.random.rand()\n",
        "                A1, C1 = 2 * a * r1 - a, 2 * r2\n",
        "                D_a = abs(C1 * a_pos[j] - pos[i, j])\n",
        "                X1 = a_pos[j] - A1 * D_a\n",
        "\n",
        "                r1, r2 = np.random.rand(), np.random.rand()\n",
        "                A2, C2 = 2 * a * r1 - a, 2 * r2\n",
        "                D_b = abs(C2 * b_pos[j] - pos[i, j])\n",
        "                X2 = b_pos[j] - A2 * D_b\n",
        "\n",
        "                r1, r2 = np.random.rand(), np.random.rand()\n",
        "                A3, C3 = 2 * a * r1 - a, 2 * r2\n",
        "                D_d = abs(C3 * d_pos[j] - pos[i, j])\n",
        "                X3 = d_pos[j] - A3 * D_d\n",
        "\n",
        "                pos[i, j] = (X1 + X2 + X3) / 3\n",
        "            pos[i] = np.clip(pos[i], lb, ub)\n",
        "\n",
        "        print(f\"Iter {t+1}/{iters}, Best Score: {a_score}\")\n",
        "    print(\"Updating positions and scores complete for all wolves.\")\n",
        "    return a_score, a_pos\n",
        "\n",
        "def create_distance_matrix(n_cities):\n",
        "    np.random.seed(0)\n",
        "    matrix = np.random.randint(1, 100, size=(n_cities, n_cities))\n",
        "    np.fill_diagonal(matrix, 0)\n",
        "    return matrix\n",
        "\n",
        "def objective_function(solution):\n",
        "    indices = np.argsort(solution)\n",
        "    return fitness_function(indices)\n",
        "\n",
        "n_cities = 10\n",
        "wolves = 20\n",
        "iters = 30\n",
        "lb, ub = -10, 10\n",
        "\n",
        "distance_matrix = create_distance_matrix(n_cities)\n",
        "best_score, best_pos = gwo(objective_function, n_cities, wolves, iters, lb, ub)\n",
        "\n",
        "print(f\"Best Score: {best_score}\")\n",
        "print(f\"Best Position (Order): {np.argsort(best_pos)}\")\n",
        "print(\"Aditi C (1BM22CS014)\")"
      ]
    }
  ]
}