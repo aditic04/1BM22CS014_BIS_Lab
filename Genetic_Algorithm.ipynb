{
  "nbformat": 4,
  "nbformat_minor": 0,
  "metadata": {
    "colab": {
      "provenance": [],
      "authorship_tag": "ABX9TyNEEnrnHBLKTlzwJ8jMJ6VR",
      "include_colab_link": true
    },
    "kernelspec": {
      "name": "python3",
      "display_name": "Python 3"
    },
    "language_info": {
      "name": "python"
    }
  },
  "cells": [
    {
      "cell_type": "markdown",
      "metadata": {
        "id": "view-in-github",
        "colab_type": "text"
      },
      "source": [
        "<a href=\"https://colab.research.google.com/github/aditic04/1BM22CS014_BIS_Lab/blob/main/Genetic_Algorithm.ipynb\" target=\"_parent\"><img src=\"https://colab.research.google.com/assets/colab-badge.svg\" alt=\"Open In Colab\"/></a>"
      ]
    },
    {
      "cell_type": "code",
      "execution_count": 1,
      "metadata": {
        "colab": {
          "base_uri": "https://localhost:8080/"
        },
        "id": "YvtSfwGSbwYl",
        "outputId": "fbfd689e-7534-40ff-fb12-a30c0fac6734"
      },
      "outputs": [
        {
          "output_type": "stream",
          "name": "stdout",
          "text": [
            "Generation 1: Best solution = 9.563543181417169, Fitness = 91.46135818283082\n",
            "Generation 2: Best solution = 8.3670208993268, Fitness = 70.00703872977145\n",
            "Generation 3: Best solution = -7.87709756352287, Fitness = 62.04866602525794\n",
            "Generation 4: Best solution = 8.775728951901147, Fitness = 77.01341863723601\n",
            "Generation 5: Best solution = 9.948538212005435, Fitness = 98.9734125557323\n",
            "Generation 6: Best solution = -9.887893978575937, Fitness = 97.77044733155827\n",
            "Generation 7: Best solution = 9.344646846480366, Fitness = 87.32242468543545\n",
            "Generation 8: Best solution = -8.3408928559898, Fitness = 69.57049363510168\n",
            "Generation 9: Best solution = -8.120462339224797, Fitness = 65.94190860276827\n",
            "Generation 10: Best solution = 9.775954972288531, Fitness = 95.56929562021286\n",
            "Best solution found: 9.775954972288531, Fitness: 95.56929562021286\n",
            "Aditi C (1BM22CS014)\n"
          ]
        }
      ],
      "source": [
        "import random\n",
        "\n",
        "def fitness_function(x):\n",
        "    return x ** 2\n",
        "\n",
        "def generate_individual(min_x, max_x):\n",
        "    return random.uniform(min_x, max_x)\n",
        "\n",
        "def generate_population(pop_size, min_x, max_x):\n",
        "    return [generate_individual(min_x, max_x) for _ in range(pop_size)]\n",
        "\n",
        "def selection(population, fitness_scores):\n",
        "    total_fitness = sum(fitness_scores)\n",
        "    selection_probs = [fitness / total_fitness for fitness in fitness_scores]\n",
        "    return random.choices(population, weights=selection_probs, k=2)\n",
        "\n",
        "def crossover(parent1, parent2):\n",
        "    alpha = random.uniform(0, 1)\n",
        "    child1 = alpha * parent1 + (1 - alpha) * parent2\n",
        "    child2 = alpha * parent2 + (1 - alpha) * parent1\n",
        "    return child1, child2\n",
        "\n",
        "def mutation(individual, mutation_rate, min_x, max_x):\n",
        "    if random.random() < mutation_rate:\n",
        "        return generate_individual(min_x, max_x)\n",
        "    return individual\n",
        "\n",
        "def genetic_algorithm(pop_size, min_x, max_x, generations, mutation_rate):\n",
        "    population = generate_population(pop_size, min_x, max_x)\n",
        "    for generation in range(generations):\n",
        "        fitness_scores = [fitness_function(ind) for ind in population]\n",
        "        new_population = []\n",
        "        for _ in range(pop_size // 2):\n",
        "            parent1, parent2 = selection(population, fitness_scores)\n",
        "            child1, child2 = crossover(parent1, parent2)\n",
        "            child1 = mutation(child1, mutation_rate, min_x, max_x)\n",
        "            child2 = mutation(child2, mutation_rate, min_x, max_x)\n",
        "            new_population.extend([child1, child2])\n",
        "        population = new_population\n",
        "        best_individual = max(population, key=fitness_function)\n",
        "        print(f\"Generation {generation + 1}: Best solution = {best_individual}, Fitness = {fitness_function(best_individual)}\")\n",
        "    return max(population, key=fitness_function)\n",
        "\n",
        "population_size = 20\n",
        "min_value = -10\n",
        "max_value = 10\n",
        "num_generations = 10\n",
        "mutation_probability = 0.1\n",
        "\n",
        "best_solution = genetic_algorithm(population_size, min_value, max_value, num_generations, mutation_probability)\n",
        "print(f\"Best solution found: {best_solution}, Fitness: {fitness_function(best_solution)}\")\n",
        "print(\"Aditi C (1BM22CS014)\")"
      ]
    }
  ]
}