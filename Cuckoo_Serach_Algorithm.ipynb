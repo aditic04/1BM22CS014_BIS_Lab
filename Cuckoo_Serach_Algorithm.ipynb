{
  "nbformat": 4,
  "nbformat_minor": 0,
  "metadata": {
    "colab": {
      "provenance": [],
      "authorship_tag": "ABX9TyNO9eGT1wGiO65IBEEhOju3",
      "include_colab_link": true
    },
    "kernelspec": {
      "name": "python3",
      "display_name": "Python 3"
    },
    "language_info": {
      "name": "python"
    }
  },
  "cells": [
    {
      "cell_type": "markdown",
      "metadata": {
        "id": "view-in-github",
        "colab_type": "text"
      },
      "source": [
        "<a href=\"https://colab.research.google.com/github/aditic04/1BM22CS014_BIS_Lab/blob/main/Cuckoo_Serach_Algorithm.ipynb\" target=\"_parent\"><img src=\"https://colab.research.google.com/assets/colab-badge.svg\" alt=\"Open In Colab\"/></a>"
      ]
    },
    {
      "cell_type": "code",
      "execution_count": null,
      "metadata": {
        "colab": {
          "base_uri": "https://localhost:8080/"
        },
        "id": "Mr66nTvpbd3e",
        "outputId": "de2629ce-ded7-49a9-e598-a65f08193554"
      },
      "outputs": [
        {
          "output_type": "stream",
          "name": "stdout",
          "text": [
            "Iteration 1, Best Fitness: 0.6123845943000749\n",
            "Iteration 2, Best Fitness: 0.6123845943000749\n",
            "Iteration 3, Best Fitness: 0.6123845943000749\n",
            "Iteration 4, Best Fitness: 0.5976822073448891\n",
            "Iteration 5, Best Fitness: 0.5976822073448891\n",
            "Iteration 6, Best Fitness: 0.5976822073448891\n",
            "Iteration 7, Best Fitness: 0.020796654383458037\n",
            "Iteration 8, Best Fitness: 0.020796654383458037\n",
            "Iteration 9, Best Fitness: 0.020796654383458037\n",
            "Iteration 10, Best Fitness: 0.020796654383458037\n",
            "Iteration 11, Best Fitness: 0.020796654383458037\n",
            "Iteration 12, Best Fitness: 0.020796654383458037\n",
            "Iteration 13, Best Fitness: 0.020796654383458037\n",
            "Iteration 14, Best Fitness: 0.020796654383458037\n",
            "Iteration 15, Best Fitness: 0.020796654383458037\n",
            "Iteration 16, Best Fitness: 0.020796654383458037\n",
            "Iteration 17, Best Fitness: 0.020796654383458037\n",
            "Iteration 18, Best Fitness: 0.020796654383458037\n",
            "Iteration 19, Best Fitness: 0.020796654383458037\n",
            "Iteration 20, Best Fitness: 0.020796654383458037\n",
            "\n",
            "Best solution: [-0.43739526 -4.26577823]\n",
            "Best fitness value: 0.020796654383458037\n",
            "\n",
            "Aditi C (1BM22CS014)\n"
          ]
        }
      ],
      "source": [
        "import numpy as np\n",
        "from scipy.special import gamma\n",
        "\n",
        "def objective_function(x):\n",
        "    return np.sum(x**2)\n",
        "\n",
        "def levy_flight(alpha=1.5, size=1):\n",
        "    sigma_u = np.power((gamma(1 + alpha) * np.sin(np.pi * alpha / 2) /\n",
        "                        gamma((1 + alpha) / 2) * alpha * 2 ** ((alpha - 1) / 2)), 1 / alpha)\n",
        "    u = np.random.normal(0, sigma_u, size)\n",
        "    v = np.random.normal(0, 1, size)\n",
        "    step = u / np.power(np.abs(v), 1 / alpha)\n",
        "    return step\n",
        "\n",
        "def cuckoo_search(objective_function, n_nests=25, max_iter=1000, pa=0.25):\n",
        "    nests = np.random.uniform(low=-5, high=5, size=(n_nests, 2))\n",
        "    fitness = np.apply_along_axis(objective_function, 1, nests)\n",
        "    best_nest = nests[np.argmin(fitness)]\n",
        "    best_fitness = np.min(fitness)\n",
        "    for iteration in range(max_iter):\n",
        "        for i in range(n_nests):\n",
        "            new_nest = nests[i] + levy_flight(size=2)\n",
        "            new_fitness = objective_function(new_nest)\n",
        "            if new_fitness < fitness[i]:\n",
        "                nests[i] = new_nest\n",
        "                fitness[i] = new_fitness\n",
        "        abandon = np.random.rand(n_nests) < pa\n",
        "        nests[abandon] = np.random.uniform(low=-5, high=5, size=(np.sum(abandon), 2))\n",
        "        current_best_nest = nests[np.argmin(fitness)]\n",
        "        current_best_fitness = np.min(fitness)\n",
        "        if current_best_fitness < best_fitness:\n",
        "            best_nest = current_best_nest\n",
        "            best_fitness = current_best_fitness\n",
        "        print(f\"Iteration {iteration + 1}, Best Fitness: {best_fitness}\")\n",
        "    return best_nest, best_fitness\n",
        "\n",
        "n_nests = 25\n",
        "max_iter = 20\n",
        "pa = 0.25\n",
        "\n",
        "best_solution, best_value = cuckoo_search(objective_function, n_nests, max_iter, pa)\n",
        "\n",
        "\n",
        "print(f\"\\nBest solution: {best_solution}\")\n",
        "print(f\"Best fitness value: {best_value}\")\n",
        "print(\"\\nAditi C (1BM22CS014)\")\n"
      ]
    }
  ]
}