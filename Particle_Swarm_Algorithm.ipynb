{
  "nbformat": 4,
  "nbformat_minor": 0,
  "metadata": {
    "colab": {
      "provenance": [],
      "authorship_tag": "ABX9TyMyHV2Smd59y9Ni6zmf3jmq",
      "include_colab_link": true
    },
    "kernelspec": {
      "name": "python3",
      "display_name": "Python 3"
    },
    "language_info": {
      "name": "python"
    }
  },
  "cells": [
    {
      "cell_type": "markdown",
      "metadata": {
        "id": "view-in-github",
        "colab_type": "text"
      },
      "source": [
        "<a href=\"https://colab.research.google.com/github/aditic04/1BM22CS014_BIS_Lab/blob/main/Particle_Swarm_Algorithm.ipynb\" target=\"_parent\"><img src=\"https://colab.research.google.com/assets/colab-badge.svg\" alt=\"Open In Colab\"/></a>"
      ]
    },
    {
      "cell_type": "code",
      "execution_count": 1,
      "metadata": {
        "id": "se2eUc5ucmCx",
        "colab": {
          "base_uri": "https://localhost:8080/"
        },
        "outputId": "8b63581a-faa5-4a5f-9326-4b2ef710bb29"
      },
      "outputs": [
        {
          "output_type": "stream",
          "name": "stdout",
          "text": [
            "Iteration 1: Global best = 0.07869066666246272, Fitness = -0.006192221019782821\n",
            "Iteration 2: Global best = 0.07869066666246272, Fitness = -0.006192221019782821\n",
            "Iteration 3: Global best = -0.012372485570369296, Fitness = -0.00015307839918899643\n",
            "Iteration 4: Global best = -0.012372485570369296, Fitness = -0.00015307839918899643\n",
            "Iteration 5: Global best = 0.009435408972235049, Fitness = -8.902694247333365e-05\n",
            "Iteration 6: Global best = 0.009435408972235049, Fitness = -8.902694247333365e-05\n",
            "Iteration 7: Global best = 0.009435408972235049, Fitness = -8.902694247333365e-05\n",
            "Iteration 8: Global best = 0.004439211522614839, Fitness = -1.9706598942516356e-05\n",
            "Iteration 9: Global best = 0.004439211522614839, Fitness = -1.9706598942516356e-05\n",
            "Iteration 10: Global best = 0.00015081762223445594, Fitness = -2.2745955176455058e-08\n",
            "Best solution found: 0.00015081762223445594, Fitness: -2.2745955176455058e-08\n",
            "Aditi C (1BM22CS014)\n"
          ]
        }
      ],
      "source": [
        "import random\n",
        "\n",
        "def fitness_function(x):\n",
        "    return -x ** 2\n",
        "\n",
        "class Particle:\n",
        "    def __init__(self, min_x, max_x):\n",
        "        self.position = random.uniform(min_x, max_x)\n",
        "        self.velocity = random.uniform(-1, 1)\n",
        "        self.best_position = self.position\n",
        "        self.best_fitness = fitness_function(self.position)\n",
        "\n",
        "    def update_velocity(self, global_best_position, inertia, cognitive, social):\n",
        "        r1, r2 = random.random(), random.random()\n",
        "        cognitive_velocity = cognitive * r1 * (self.best_position - self.position)\n",
        "        social_velocity = social * r2 * (global_best_position - self.position)\n",
        "        self.velocity = inertia * self.velocity + cognitive_velocity + social_velocity\n",
        "\n",
        "    def update_position(self, min_x, max_x):\n",
        "        self.position += self.velocity\n",
        "        self.position = max(min(self.position, max_x), min_x)\n",
        "        fitness = fitness_function(self.position)\n",
        "        if fitness > self.best_fitness:\n",
        "            self.best_position = self.position\n",
        "            self.best_fitness = fitness\n",
        "\n",
        "def particle_swarm_optimization(pop_size, min_x, max_x, inertia, cognitive, social, iterations):\n",
        "    swarm = [Particle(min_x, max_x) for _ in range(pop_size)]\n",
        "    global_best_position = min(swarm, key=lambda p: p.best_fitness).best_position\n",
        "    for iteration in range(iterations):\n",
        "        for particle in swarm:\n",
        "            particle.update_velocity(global_best_position, inertia, cognitive, social)\n",
        "            particle.update_position(min_x, max_x)\n",
        "            if fitness_function(particle.position) > fitness_function(global_best_position):\n",
        "                global_best_position = particle.position\n",
        "        print(f\"Iteration {iteration + 1}: Global best = {global_best_position}, Fitness = {fitness_function(global_best_position)}\")\n",
        "    return global_best_position\n",
        "\n",
        "population_size = 30\n",
        "min_value = -10\n",
        "max_value = 10\n",
        "inertia_weight = 0.5\n",
        "cognitive_constant = 1.5\n",
        "social_constant = 1.5\n",
        "num_iterations = 10\n",
        "\n",
        "best_solution = particle_swarm_optimization(population_size, min_value, max_value, inertia_weight, cognitive_constant, social_constant, num_iterations)\n",
        "print(f\"Best solution found: {best_solution}, Fitness: {fitness_function(best_solution)}\")\n",
        "print(\"Aditi C (1BM22CS014)\")"
      ]
    }
  ]
}